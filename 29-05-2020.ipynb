{
 "cells": [
  {
   "cell_type": "code",
   "execution_count": 1,
   "metadata": {},
   "outputs": [
    {
     "name": "stdout",
     "output_type": "stream",
     "text": [
      "1\n",
      "2\n",
      "3\n",
      "4\n"
     ]
    }
   ],
   "source": [
    "#loop control statements:break,continue\n",
    "for i in range(1,11):\n",
    "    if i % 5 ==0:\n",
    "        break\n",
    "    else:\n",
    "        print(i)"
   ]
  },
  {
   "cell_type": "code",
   "execution_count": 2,
   "metadata": {},
   "outputs": [
    {
     "name": "stdout",
     "output_type": "stream",
     "text": [
      "1\n",
      "2\n",
      "3\n",
      "4\n",
      "6\n",
      "7\n",
      "8\n",
      "9\n"
     ]
    }
   ],
   "source": [
    "for i in range(1,11):\n",
    "    if i % 5 ==0:\n",
    "        continue\n",
    "    else:\n",
    "        print(i)"
   ]
  },
  {
   "cell_type": "markdown",
   "metadata": {},
   "source": [
    "# write a program to validate username and password given by the user.If the user gives wrong credentials it should ask for username and password again again until the user gives correct details.\n"
   ]
  },
  {
   "cell_type": "code",
   "execution_count": 4,
   "metadata": {},
   "outputs": [
    {
     "name": "stdout",
     "output_type": "stream",
     "text": [
      "enter the usernamehjkl\n",
      "enter the usernamehjn\n",
      "enter the usernamehjkm\n",
      "enter the usernamejkm\n",
      "enter the usernamejklm\n",
      "enter the usernamejkm\n",
      "enter the usernamepython\n",
      "enter the passwordabc123\n",
      "Login success!!\n"
     ]
    }
   ],
   "source": [
    "#username : python\n",
    "#password: abc123\n",
    "while True:\n",
    "    \n",
    "    user=input(\"enter the username\")\n",
    "    if user==\"python\":\n",
    "        pwd=input(\"enter the password\")\n",
    "        if pwd == \"abc123\":\n",
    "                print(\"Login success!!\")\n",
    "                break\n",
    "        else:\n",
    "            continue\n",
    "\n",
    "        "
   ]
  },
  {
   "cell_type": "code",
   "execution_count": 7,
   "metadata": {},
   "outputs": [],
   "source": [
    "#pass\n",
    "if 12<34:\n",
    "    pass\n",
    "else:\n",
    "        print(\"else\")"
   ]
  },
  {
   "cell_type": "markdown",
   "metadata": {},
   "source": [
    "## function:\n",
    "block of statements\n",
    "1. predefined(which are already)\n",
    "   - len(),print(),input(),min(),max()\n",
    "2. user-defined(custom funtion)"
   ]
  },
  {
   "cell_type": "markdown",
   "metadata": {},
   "source": [
    "``` def function_name(parameter list):\n",
    "    statements\n",
    "    return ```"
   ]
  },
  {
   "cell_type": "code",
   "execution_count": 8,
   "metadata": {},
   "outputs": [
    {
     "name": "stdout",
     "output_type": "stream",
     "text": [
      "hello nihith\n"
     ]
    }
   ],
   "source": [
    "def name(username): #function definition\n",
    "    print(\"hello\",username)\n",
    "name(\"nihith\")#function calling"
   ]
  },
  {
   "cell_type": "code",
   "execution_count": 10,
   "metadata": {},
   "outputs": [
    {
     "data": {
      "text/plain": [
       "42"
      ]
     },
     "execution_count": 10,
     "metadata": {},
     "output_type": "execute_result"
    }
   ],
   "source": [
    "def add(a,b):\n",
    "    return a+b\n",
    "add(20,22)"
   ]
  },
  {
   "cell_type": "code",
   "execution_count": 12,
   "metadata": {},
   "outputs": [
    {
     "name": "stdout",
     "output_type": "stream",
     "text": [
      "(24, -20, 44)\n",
      "(42, -2, 440)\n",
      "(222, 178, 4400)\n"
     ]
    }
   ],
   "source": [
    "def add(a,b):\n",
    "    return a+b,a-b,a*b\n",
    "print(add(2,22))\n",
    "print(add(20,22))\n",
    "print(add(200,22))"
   ]
  },
  {
   "cell_type": "code",
   "execution_count": 14,
   "metadata": {},
   "outputs": [
    {
     "name": "stdout",
     "output_type": "stream",
     "text": [
      "200\n"
     ]
    }
   ],
   "source": [
    "def add(a,b):\n",
    "    return a+b,a-b,a*b\n",
    "add,sub,mul=add(10,20)\n",
    "print(mul)"
   ]
  },
  {
   "cell_type": "markdown",
   "metadata": {},
   "source": [
    "### different types of arguments"
   ]
  },
  {
   "cell_type": "code",
   "execution_count": 15,
   "metadata": {},
   "outputs": [
    {
     "name": "stdout",
     "output_type": "stream",
     "text": [
      "200\n",
      "400\n"
     ]
    }
   ],
   "source": [
    "def add(a,b=100):\n",
    "    return a+b\n",
    "print(add(100))\n",
    "print(add(200,200))"
   ]
  },
  {
   "cell_type": "markdown",
   "metadata": {},
   "source": [
    "## keywords arguments"
   ]
  },
  {
   "cell_type": "code",
   "execution_count": 1,
   "metadata": {},
   "outputs": [
    {
     "name": "stdout",
     "output_type": "stream",
     "text": [
      "a value: 20\n",
      "b value: 10\n"
     ]
    },
    {
     "data": {
      "text/plain": [
       "30"
      ]
     },
     "execution_count": 1,
     "metadata": {},
     "output_type": "execute_result"
    }
   ],
   "source": [
    "def add(a,b):\n",
    "    print(\"a value:\",a)\n",
    "    print(\"b value:\",b)\n",
    "    return(a+b)\n",
    "add(b = 10,a=20)"
   ]
  },
  {
   "cell_type": "markdown",
   "metadata": {},
   "source": [
    "### variable "
   ]
  },
  {
   "cell_type": "code",
   "execution_count": 3,
   "metadata": {},
   "outputs": [
    {
     "name": "stdout",
     "output_type": "stream",
     "text": [
      "30\n",
      "250\n"
     ]
    }
   ],
   "source": [
    "def add(*a):\n",
    "    return sum(a)\n",
    "print(add(10,20))\n",
    "print(add(200,20,30))"
   ]
  },
  {
   "cell_type": "code",
   "execution_count": 6,
   "metadata": {},
   "outputs": [
    {
     "name": "stdout",
     "output_type": "stream",
     "text": [
      "200\n",
      "120000\n"
     ]
    }
   ],
   "source": [
    "def add(*a):\n",
    "     m=1\n",
    "     for i in a:\n",
    "            m=m*i\n",
    "     return m\n",
    "        \n",
    "print(add(10,20))\n",
    "print(add(200,20,30))"
   ]
  },
  {
   "cell_type": "code",
   "execution_count": 11,
   "metadata": {},
   "outputs": [
    {
     "name": "stdout",
     "output_type": "stream",
     "text": [
      "100\n",
      "1000\n"
     ]
    }
   ],
   "source": [
    "# nested funtions\n",
    "def square(a):\n",
    "    return a*a\n",
    "def cube(x):\n",
    "    return square(x)*x\n",
    "print(square(10))\n",
    "print(cube(10))"
   ]
  },
  {
   "cell_type": "markdown",
   "metadata": {},
   "source": [
    "# Recursive functions:\n",
    "\n",
    "Calling a function inside the same function is called Recursion\n",
    "\n",
    "\n"
   ]
  },
  {
   "cell_type": "markdown",
   "metadata": {},
   "source": [
    "### data structures:\n",
    "1. lisit:\n",
    "  - [] elements separated by,\n",
    "  - indexed\n",
    "  - ordered\n",
    "  - duplicate values\n",
    "  - mutable\n",
    "  - any type of values\n",
    "  "
   ]
  },
  {
   "cell_type": "code",
   "execution_count": 16,
   "metadata": {},
   "outputs": [
    {
     "name": "stdout",
     "output_type": "stream",
     "text": [
      "[1, 2, 3, 4, 10, 20, 30]\n",
      "[1, 2, 3, 4, 1, 2, 3, 4, 1, 2, 3, 4]\n",
      "2\n",
      "[2, 3]\n",
      "True\n",
      "False\n"
     ]
    }
   ],
   "source": [
    "#operators supported by list : +,*,[],[:],in,not in \n",
    "list1 = [1,2,3,4]\n",
    "list2 = [10,20,30]\n",
    "print(list1+list2)\n",
    "print(list1*3)\n",
    "print(list1[1])\n",
    "print(list1[1:3])\n",
    "print(2 in list1)\n",
    "print(200 in list1)"
   ]
  },
  {
   "cell_type": "code",
   "execution_count": null,
   "metadata": {},
   "outputs": [],
   "source": []
  }
 ],
 "metadata": {
  "kernelspec": {
   "display_name": "Python 3",
   "language": "python",
   "name": "python3"
  }
 },
 "nbformat": 4,
 "nbformat_minor": 4
}
