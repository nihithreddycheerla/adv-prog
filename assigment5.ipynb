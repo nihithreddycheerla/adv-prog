{
 "cells": [
  {
   "cell_type": "markdown",
   "metadata": {},
   "source": [
    "# CSE-221710302043-NIHITH REDDY"
   ]
  },
  {
   "cell_type": "code",
   "execution_count": null,
   "metadata": {},
   "outputs": [
    {
     "name": "stdout",
     "output_type": "stream",
     "text": [
      "standinghari|54\n",
      "you need to genrate the new password yes or no:yes\n",
      "modeofmadhu&40\n",
      "you need to genrate the new password yes or no:yes\n",
      "writingnani;67\n"
     ]
    }
   ],
   "source": [
    "import random\n",
    "list1=[\"modeof\",\"sleepy\",\"runing\",\"seating\",\"standing\",\"writing\"]\n",
    "tup1 = [\"nihith\",\"hari\",\"madhu\",\"nani\",\"pichi\",\"jaya\"]\n",
    "import string\n",
    "string.punctuation\n",
    "\n",
    "while True:\n",
    "    st=random.choice(list1)+random.choice(tup1)+random.choice(string.punctuation)+str (random.randint(0,100))\n",
    "    print(st)\n",
    "    s=input(\"you need to genrate the new password yes or no:\")\n",
    "    s=s.lower()\n",
    "    if s==\"no\":\n",
    "        break\n"
   ]
  },
  {
   "cell_type": "code",
   "execution_count": null,
   "metadata": {},
   "outputs": [],
   "source": []
  },
  {
   "cell_type": "code",
   "execution_count": null,
   "metadata": {},
   "outputs": [],
   "source": []
  }
 ],
 "metadata": {
  "kernelspec": {
   "display_name": "Python 3",
   "language": "python",
   "name": "python3"
  },
  "language_info": {
   "codemirror_mode": {
    "name": "ipython",
    "version": 3
   },
   "file_extension": ".py",
   "mimetype": "text/x-python",
   "name": "python",
   "nbconvert_exporter": "python",
   "pygments_lexer": "ipython3",
   "version": "3.7.6"
  }
 },
 "nbformat": 4,
 "nbformat_minor": 4
}
