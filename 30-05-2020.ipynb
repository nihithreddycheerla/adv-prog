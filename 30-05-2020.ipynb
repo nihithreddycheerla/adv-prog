{
 "cells": [
  {
   "cell_type": "code",
   "execution_count": 15,
   "metadata": {},
   "outputs": [
    {
     "name": "stdout",
     "output_type": "stream",
     "text": [
      "enter a string: sasas\n",
      "True\n"
     ]
    }
   ],
   "source": [
    "s3 = input(\"enter a string: \")\n",
    "print (s3 == s3[::-1])"
   ]
  },
  {
   "cell_type": "code",
   "execution_count": 17,
   "metadata": {},
   "outputs": [
    {
     "data": {
      "text/plain": [
       "120"
      ]
     },
     "execution_count": 17,
     "metadata": {},
     "output_type": "execute_result"
    }
   ],
   "source": [
    "#Factorial of number\n",
    "def Factorial(n):\n",
    "    if n==0:\n",
    "        return 1\n",
    "    else:\n",
    "        return n*Factorial(n-1)\n",
    "Factorial(5)"
   ]
  },
  {
   "cell_type": "code",
   "execution_count": 21,
   "metadata": {},
   "outputs": [
    {
     "name": "stdout",
     "output_type": "stream",
     "text": [
      "5\n",
      "3\n"
     ]
    }
   ],
   "source": [
    "#Lower bound andUpper bound\n",
    "def display(lb,ub):\n",
    "    if lb>ub:\n",
    "        return\n",
    "    else:\n",
    "        print(lb,end=\" \")\n",
    "        display(lb+1,ub)\n",
    "\n",
    "lb=int(input())\n",
    "ub=int(input())\n",
    "display(lb,ub)#1 2 3 4 5 .....10"
   ]
  },
  {
   "cell_type": "code",
   "execution_count": 22,
   "metadata": {},
   "outputs": [
    {
     "data": {
      "text/plain": [
       "3"
      ]
     },
     "execution_count": 22,
     "metadata": {},
     "output_type": "execute_result"
    }
   ],
   "source": [
    "#Fibonocci series:0,1,1,2,3,5,8,13,21,34.....\n",
    "def recur_fibo(n):\n",
    "    if n ==1:\n",
    "        return 0\n",
    "    elif n==2:\n",
    "        return 1\n",
    "    else:\n",
    "        return recur_fibo(n-1)+recur_fibo(n-2)\n",
    "recur_fibo(5)"
   ]
  },
  {
   "cell_type": "code",
   "execution_count": 23,
   "metadata": {},
   "outputs": [
    {
     "name": "stdout",
     "output_type": "stream",
     "text": [
      "4181\n",
      "0.0028727054595947266\n"
     ]
    }
   ],
   "source": [
    "import time\n",
    "fibs = [0,1]\n",
    "def Fibonacci(n):\n",
    "    if n<= len(fibs):\n",
    "        return fibs[n-1]\n",
    "    else:\n",
    "        fibs.append(fibs[len(fibs)-1]+fibs[len(fibs)-2])\n",
    "        return Fibonacci(n)\n",
    "prev = time.time()\n",
    "print(Fibonacci(20))\n",
    "print(time.time()-prev)"
   ]
  },
  {
   "cell_type": "code",
   "execution_count": 24,
   "metadata": {},
   "outputs": [
    {
     "name": "stdout",
     "output_type": "stream",
     "text": [
      "4181\n",
      "0.0\n"
     ]
    }
   ],
   "source": [
    "#Fibonocci series:0,1,1,2,3,5,8,13,21,34.....\n",
    "def recur_fibo(n):\n",
    "    if n ==1:\n",
    "        return 0\n",
    "    elif n==2:\n",
    "        return 1\n",
    "    else:\n",
    "        return recur_fibo(n-1)+recur_fibo(n-2)\n",
    "prev = time.time()\n",
    "print(Fibonacci(20))\n",
    "print(time.time()-prev)"
   ]
  },
  {
   "cell_type": "code",
   "execution_count": 26,
   "metadata": {},
   "outputs": [
    {
     "name": "stdout",
     "output_type": "stream",
     "text": [
      "length of list: 6\n",
      "['p', 'y', 't', 'h', 'o', 'n']\n",
      "t\n",
      "6\n"
     ]
    }
   ],
   "source": [
    "#Built-in function s : Len(),min(),max(),List()\n",
    "list1 = [12,34,45,6,\"str\",True]\n",
    "list2 = [34,45,6.6,45,[12,23,34,45,[23,34,45,6]]]\n",
    "string=\"python\"\n",
    "#Len() returns no.of elements of your List\n",
    "print(\"length of list:\",len(list1))#6\n",
    "#print(min(list2))\n",
    "#print(max(list2))\n",
    "print(list(string))\n",
    "print(list1[4][1])\n",
    "print(list2[4][4][3])"
   ]
  },
  {
   "cell_type": "code",
   "execution_count": 27,
   "metadata": {},
   "outputs": [
    {
     "name": "stdout",
     "output_type": "stream",
     "text": [
      "[1, 2, 3, 4, 5, 6]\n"
     ]
    }
   ],
   "source": [
    "#append()\n",
    "list1=[1,2,3,4,5]\n",
    "list1.append(6)\n",
    "print(list1)\n"
   ]
  },
  {
   "cell_type": "code",
   "execution_count": 28,
   "metadata": {},
   "outputs": [
    {
     "name": "stdout",
     "output_type": "stream",
     "text": [
      "[1, 2, 100, 3, 4, 5, 6]\n"
     ]
    }
   ],
   "source": [
    "#insert()\n",
    "list1.insert(2,100)\n",
    "print(list1)"
   ]
  },
  {
   "cell_type": "code",
   "execution_count": 30,
   "metadata": {},
   "outputs": [
    {
     "name": "stdout",
     "output_type": "stream",
     "text": [
      "[1, 2, 100, 3, 4, 5, 6, 8, 9, 10, 7, 8, 9, 10]\n"
     ]
    }
   ],
   "source": [
    "#extend : inserting multiple values\n",
    "list1.extend([7,8,9,10])\n",
    "print(list1)"
   ]
  },
  {
   "cell_type": "code",
   "execution_count": 32,
   "metadata": {},
   "outputs": [
    {
     "name": "stdout",
     "output_type": "stream",
     "text": [
      "[1, 2, 100, 3, 4, 5, 6, 8, 9, 10, 7, 8, 9]\n"
     ]
    }
   ],
   "source": [
    "list1.pop()\n",
    "print(list1)"
   ]
  },
  {
   "cell_type": "code",
   "execution_count": 33,
   "metadata": {},
   "outputs": [
    {
     "name": "stdout",
     "output_type": "stream",
     "text": [
      "[1, 2, 3, 4, 5, 6, 8, 9, 10, 7, 8, 9]\n"
     ]
    }
   ],
   "source": [
    "list1.pop(2)\n",
    "print(list1)"
   ]
  },
  {
   "cell_type": "code",
   "execution_count": 35,
   "metadata": {},
   "outputs": [
    {
     "name": "stdout",
     "output_type": "stream",
     "text": [
      "[1, 2, 3, 4, 5, 6, 8, 9, 10, 7, 9]\n"
     ]
    }
   ],
   "source": [
    "list1.pop(10)\n",
    "print(list1)"
   ]
  },
  {
   "cell_type": "code",
   "execution_count": 40,
   "metadata": {},
   "outputs": [
    {
     "name": "stdout",
     "output_type": "stream",
     "text": [
      "[]\n"
     ]
    }
   ],
   "source": [
    "list1.clear()\n",
    "print(list1)"
   ]
  },
  {
   "cell_type": "code",
   "execution_count": 45,
   "metadata": {},
   "outputs": [
    {
     "name": "stdout",
     "output_type": "stream",
     "text": [
      "3\n",
      "2\n"
     ]
    }
   ],
   "source": [
    "list1=[12,41,5,55,85,6,56,85]\n",
    "print(list1.index(55))\n",
    "print(list1.count(85))"
   ]
  },
  {
   "cell_type": "code",
   "execution_count": 46,
   "metadata": {},
   "outputs": [
    {
     "name": "stdout",
     "output_type": "stream",
     "text": [
      "[5, 6, 12, 41, 55, 56, 85, 85]\n"
     ]
    }
   ],
   "source": [
    "list1.sort()\n",
    "print(list1)"
   ]
  },
  {
   "cell_type": "code",
   "execution_count": 48,
   "metadata": {},
   "outputs": [
    {
     "name": "stdout",
     "output_type": "stream",
     "text": [
      "[85, 85, 56, 55, 41, 12, 6, 5]\n",
      "[5, 6, 12, 41, 55, 56, 85, 85]\n"
     ]
    }
   ],
   "source": [
    "list1.sort(reverse=True)\n",
    "print(list1)\n",
    "list1.sort(reverse=False)\n",
    "print(list1)"
   ]
  },
  {
   "cell_type": "code",
   "execution_count": 49,
   "metadata": {},
   "outputs": [
    {
     "name": "stdout",
     "output_type": "stream",
     "text": [
      "[85, 85, 56, 55, 41, 12, 6, 5]\n"
     ]
    }
   ],
   "source": [
    "list1.reverse()\n",
    "print(list1)"
   ]
  },
  {
   "cell_type": "code",
   "execution_count": 53,
   "metadata": {},
   "outputs": [
    {
     "name": "stdout",
     "output_type": "stream",
     "text": [
      "[1, 2, 3, 4, 5]\n",
      "[1, 2, 3, 4, 5]\n",
      "[1, 2, 3, 4, 5, 6] [1, 2, 3, 4, 5, 6] [1, 2, 3, 4, 5]\n"
     ]
    }
   ],
   "source": [
    "list1 =[1,2,3,4,5]\n",
    "list2=[]\n",
    "list3=[]\n",
    "list2=list1\n",
    "print(list2)\n",
    "list3=list1.copy()\n",
    "print(list3)\n",
    "list1.append(6)\n",
    "print(list1,list2,list3)"
   ]
  },
  {
   "cell_type": "markdown",
   "metadata": {},
   "source": [
    "# file handling\n",
    "1. create\n",
    "2. add some text\n",
    "3. save\n",
    "4. read\n",
    "5. appending\n",
    "6. rename\n",
    "7. remove"
   ]
  },
  {
   "cell_type": "markdown",
   "metadata": {},
   "source": [
    " ### modes:\n",
    " 1. write(w)\n",
    " 2. read(r)\n",
    " 3. append(a)\n",
    " 4. new file creation(x)"
   ]
  },
  {
   "cell_type": "markdown",
   "metadata": {},
   "source": [
    "1. open()\n",
    "2. close()"
   ]
  },
  {
   "cell_type": "code",
   "execution_count": 54,
   "metadata": {},
   "outputs": [],
   "source": [
    "f = open(\"sample.txt\",\"w\")\n",
    "f.write(\"hello one!!!!\")\n",
    "f.close()"
   ]
  },
  {
   "cell_type": "code",
   "execution_count": 55,
   "metadata": {},
   "outputs": [
    {
     "name": "stdout",
     "output_type": "stream",
     "text": [
      "hello one!!!!\n"
     ]
    }
   ],
   "source": [
    "f = open(\"sample.txt\",\"r\")\n",
    "data = f.read()\n",
    "print(data)\n",
    "f.close()"
   ]
  },
  {
   "cell_type": "code",
   "execution_count": 57,
   "metadata": {},
   "outputs": [],
   "source": [
    "f = open(\"sample.txt\",\"a\")\n",
    "s =''' how r u going..???????'''\n",
    "f.write(s)\n",
    "f.close()"
   ]
  },
  {
   "cell_type": "code",
   "execution_count": 58,
   "metadata": {},
   "outputs": [
    {
     "name": "stdout",
     "output_type": "stream",
     "text": [
      "hello one!!!! how r u going..???????\n"
     ]
    }
   ],
   "source": [
    "f = open(\"sample.txt\",\"r\")\n",
    "data = f.read()\n",
    "print(data)\n",
    "f.close()"
   ]
  },
  {
   "cell_type": "code",
   "execution_count": null,
   "metadata": {},
   "outputs": [],
   "source": []
  }
 ],
 "metadata": {
  "kernelspec": {
   "display_name": "Python 3",
   "language": "python",
   "name": "python3"
  },
  "language_info": {
   "codemirror_mode": {
    "name": "ipython",
    "version": 3
   },
   "file_extension": ".py",
   "mimetype": "text/x-python",
   "name": "python",
   "nbconvert_exporter": "python",
   "pygments_lexer": "ipython3",
   "version": "3.7.6"
  }
 },
 "nbformat": 4,
 "nbformat_minor": 4
}
