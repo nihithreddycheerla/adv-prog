{
 "cells": [
  {
   "cell_type": "markdown",
   "metadata": {},
   "source": [
    "# CSE-221710302043-NIHITH REDDY CHEERLA\n"
   ]
  },
  {
   "cell_type": "code",
   "execution_count": 2,
   "metadata": {},
   "outputs": [
    {
     "name": "stdout",
     "output_type": "stream",
     "text": [
      "1 .  hi bye\n",
      "\n",
      "2 .  AIANDML\n",
      "\n",
      "3 .  data science\n",
      "\n",
      "4 .  avd programing \n",
      "\n",
      "5 .  basics of python programing\n",
      "\n",
      "6 .  very useful to all of use\n",
      "\n"
     ]
    }
   ],
   "source": [
    "with open(\"Data.txt\",\"r\") as f:\n",
    "    i=1\n",
    "    for line in f:\n",
    "        print(i,\". \",line)\n",
    "        i+=1"
   ]
  },
  {
   "cell_type": "code",
   "execution_count": 4,
   "metadata": {},
   "outputs": [],
   "source": [
    "with open(\"Data.txt\",\"r\") as f:\n",
    "    with open(\"sample1.txt\",\"w\") as f1:     #copying contents\n",
    "        for line in f:\n",
    "            f1.write(line)"
   ]
  },
  {
   "cell_type": "code",
   "execution_count": 5,
   "metadata": {},
   "outputs": [
    {
     "name": "stdout",
     "output_type": "stream",
     "text": [
      "\n",
      "eyb ih\n",
      "\n",
      "LMDNAIA\n",
      "\n",
      "ecneics atad\n",
      "\n",
      " gnimargorp dva\n",
      "\n",
      "gnimargorp nohtyp fo scisab\n",
      "\n",
      "esu fo lla ot lufesu yrev\n"
     ]
    }
   ],
   "source": [
    " with open(\"sample1.txt\",\"r\") as f1:\n",
    "        for line in f1:                    #displaying contents in reverse order\n",
    "            print(line[::-1])"
   ]
  },
  {
   "cell_type": "code",
   "execution_count": 6,
   "metadata": {},
   "outputs": [
    {
     "name": "stdout",
     "output_type": "stream",
     "text": [
      "True\n",
      "[1, 2, 3, 4]\n"
     ]
    }
   ],
   "source": [
    "def duplicate(l):\n",
    "    for i in l:\n",
    "        if(l.count(i)>1):\n",
    "            return True\n",
    "            break\n",
    "        else:\n",
    "            continue\n",
    "    return False\n",
    "def removed(f):\n",
    "    for i in l:\n",
    "        if i not in li:\n",
    "            li.append(i)\n",
    "    return li\n",
    "l = [1,2,3,4,2]\n",
    "li= []\n",
    "f = (duplicate(l))\n",
    "print(f)\n",
    "if(f == True):\n",
    "    print(removed(l))"
   ]
  },
  {
   "cell_type": "code",
   "execution_count": 3,
   "metadata": {},
   "outputs": [
    {
     "name": "stdout",
     "output_type": "stream",
     "text": [
      "True\n"
     ]
    }
   ],
   "source": [
    "def ispermutation(l1,l2):\n",
    "    sum1 = sum(l1)\n",
    "    sum2 = sum(l2)\n",
    "    if sum1 == sum2:\n",
    "        return True\n",
    "    else:\n",
    "        return False\n",
    "l1 = [1,2,1]\n",
    "l2 = [1,1,2]\n",
    "print(ispermutation(l1,l2))"
   ]
  },
  {
   "cell_type": "code",
   "execution_count": null,
   "metadata": {},
   "outputs": [],
   "source": []
  },
  {
   "cell_type": "code",
   "execution_count": null,
   "metadata": {},
   "outputs": [],
   "source": []
  }
 ],
 "metadata": {
  "kernelspec": {
   "display_name": "Python 3",
   "language": "python",
   "name": "python3"
  },
  "language_info": {
   "codemirror_mode": {
    "name": "ipython",
    "version": 3
   },
   "file_extension": ".py",
   "mimetype": "text/x-python",
   "name": "python",
   "nbconvert_exporter": "python",
   "pygments_lexer": "ipython3",
   "version": "3.7.6"
  }
 },
 "nbformat": 4,
 "nbformat_minor": 4
}
