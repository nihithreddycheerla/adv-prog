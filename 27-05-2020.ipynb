{
 "cells": [
  {
   "cell_type": "markdown",
   "metadata": {},
   "source": [
    "headings:\n"
   ]
  },
  {
   "cell_type": "markdown",
   "metadata": {},
   "source": [
    "# phython programing\n",
    "## phyton programing\n",
    "### phyton programing\n",
    "#### phyton programing\n",
    "##### phyton programing"
   ]
  },
  {
   "cell_type": "markdown",
   "metadata": {},
   "source": [
    "### list of programming languages:\n",
    "1. python\n",
    "2. java\n",
    "3. c\n",
    "4. c++\n",
    "5. NET"
   ]
  },
  {
   "cell_type": "markdown",
   "metadata": {},
   "source": [
    "### list of programming languages:\n",
    " - phython\n",
    "  \n",
    "- java\n",
    "- c\n",
    "- c++\n",
    "- NET"
   ]
  },
  {
   "cell_type": "markdown",
   "metadata": {},
   "source": [
    "- **python programming**\n",
    "- *python programming*"
   ]
  },
  {
   "cell_type": "markdown",
   "metadata": {},
   "source": [
    "[click here](https://tinyurl.com/introduction-to-python)"
   ]
  },
  {
   "cell_type": "markdown",
   "metadata": {},
   "source": [
    "![image](data:image/jpeg;base64,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)"
   ]
  },
  {
   "cell_type": "markdown",
   "metadata": {},
   "source": [
    "<img src=\"data:image/jpeg;base64,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\" width=200 height=200 >\n"
   ]
  },
  {
   "cell_type": "markdown",
   "metadata": {},
   "source": [
    "1. Different paradigms\n",
    "2. Interpreted PL\n",
    "3. open source\n",
    "4. Object Oriented PL\n",
    "5. dynamic type programming"
   ]
  },
  {
   "cell_type": "code",
   "execution_count": 12,
   "metadata": {},
   "outputs": [
    {
     "name": "stdout",
     "output_type": "stream",
     "text": [
      "<class 'int'> <class 'float'> <class 'complex'>\n"
     ]
    }
   ],
   "source": [
    "a=10\n",
    "b=23.343\n",
    "c=12+3j\n",
    "print(type(a),type(b),type(c))"
   ]
  },
  {
   "cell_type": "code",
   "execution_count": 17,
   "metadata": {},
   "outputs": [
    {
     "name": "stdout",
     "output_type": "stream",
     "text": [
      "(10+12j)\n",
      "6.0\n",
      "7.0\n",
      "4.0\n",
      "5.0\n"
     ]
    }
   ],
   "source": [
    "c1=4+5j\n",
    "c2=complex(6,7)\n",
    "print(c1+c2)\n",
    "print(c2.real)\n",
    "print(c2.imag)\n",
    "print(c1.real)\n",
    "print(c1.imag)"
   ]
  },
  {
   "cell_type": "code",
   "execution_count": 19,
   "metadata": {},
   "outputs": [
    {
     "name": "stdout",
     "output_type": "stream",
     "text": [
      "Enter the value of a10\n",
      "Enter the value of b20\n",
      "30\n",
      "-10\n",
      "200\n",
      "10\n",
      "0.5\n"
     ]
    }
   ],
   "source": [
    "#input and output funtions\n",
    "#input-->input()\n",
    "#output-->print()\n",
    "a = int(input(\"Enter the value of a\"))\n",
    "b = int(input(\"Enter the value of b\"))\n",
    "print(a+b)\n",
    "print(a-b)\n",
    "print(a*b)\n",
    "print(a%b)\n",
    "print(a/b)"
   ]
  },
  {
   "cell_type": "code",
   "execution_count": 20,
   "metadata": {},
   "outputs": [
    {
     "name": "stdout",
     "output_type": "stream",
     "text": [
      "Enter the value of a10\n",
      "Enter the value of b20\n",
      "30,-10,200\n"
     ]
    }
   ],
   "source": [
    "a = int(input(\"Enter the value of a\"))\n",
    "b = int(input(\"Enter the value of b\"))\n",
    "print(a+b,a-b,a*b,sep=\",\")"
   ]
  },
  {
   "cell_type": "markdown",
   "metadata": {},
   "source": [
    "# operators:symbol which performs some specific task\n",
    "# operands: values given to operators are known as operands"
   ]
  },
  {
   "cell_type": "code",
   "execution_count": 21,
   "metadata": {},
   "outputs": [
    {
     "name": "stdout",
     "output_type": "stream",
     "text": [
      "enter a value2\n",
      "enter a value5\n",
      "7\n",
      "-3\n",
      "10\n",
      "0.4\n",
      "2\n",
      "0\n",
      "32\n"
     ]
    }
   ],
   "source": [
    "a=int(input(\"enter a value\"))\n",
    "b=int(input(\"enter a value\"))\n",
    "print(a + b)\n",
    "print(a - b)\n",
    "print(a * b)\n",
    "print(a / b)#float\n",
    "print(a % b)#remanider\n",
    "print(a // b)#int quotient\n",
    "print(a ** b)# 2 power 5"
   ]
  },
  {
   "cell_type": "code",
   "execution_count": 24,
   "metadata": {},
   "outputs": [
    {
     "name": "stdout",
     "output_type": "stream",
     "text": [
      "True\n",
      "True\n",
      "False\n"
     ]
    }
   ],
   "source": [
    "print(a < b and a>1)\n",
    "print(a < b or a>1)\n",
    "print(not a < b)"
   ]
  },
  {
   "cell_type": "code",
   "execution_count": 29,
   "metadata": {},
   "outputs": [
    {
     "name": "stdout",
     "output_type": "stream",
     "text": [
      "True\n",
      "False\n",
      "False\n",
      "True\n"
     ]
    }
   ],
   "source": [
    "list1 =[12,13,23,22,33,34]\n",
    "print(12 in list1)\n",
    "print(129 in list1)\n",
    "print(12 not in list1)\n",
    "print(129 not in list1)"
   ]
  },
  {
   "cell_type": "code",
   "execution_count": 30,
   "metadata": {},
   "outputs": [
    {
     "name": "stdout",
     "output_type": "stream",
     "text": [
      "a is less than b\n"
     ]
    }
   ],
   "source": [
    "#conditional statements:if,else,elif\n",
    "if a < b:\n",
    "    print(\"a is less than b\")\n",
    "elif a > b:\n",
    "    print(\"a is greater than b\")\n",
    "else:\n",
    "    print(\"a or equal to b\")"
   ]
  },
  {
   "cell_type": "code",
   "execution_count": 31,
   "metadata": {},
   "outputs": [
    {
     "name": "stdout",
     "output_type": "stream",
     "text": [
      "enter a value10\n",
      "enter b value20\n",
      "enter c value30\n",
      "largest number is c: 30\n"
     ]
    }
   ],
   "source": [
    "#question:find the largest of three numbers\n",
    "a = int(input(\"enter a value\"))\n",
    "b = int(input(\"enter b value\"))\n",
    "c = int(input(\"enter c value\"))\n",
    "if a>b and a>c:\n",
    "    print(\"largest number is a:\",a)\n",
    "elif b>c:\n",
    "    print(\"largest number is b:\",b)\n",
    "else:\n",
    "    print(\"largest number is c:\",c)\n",
    "          "
   ]
  },
  {
   "cell_type": "code",
   "execution_count": 35,
   "metadata": {},
   "outputs": [
    {
     "name": "stdout",
     "output_type": "stream",
     "text": [
      "enter n value10\n",
      "1 2 3 4 5 6 7 8 9 10 "
     ]
    }
   ],
   "source": [
    "#loops : while,for\n",
    "#print 1 to n values\n",
    "n = int(input(\"enter n value\"))\n",
    "i = 1\n",
    "while i<=n:\n",
    "    print(i,end=\" \")\n",
    "    i = i+1"
   ]
  },
  {
   "cell_type": "code",
   "execution_count": null,
   "metadata": {},
   "outputs": [],
   "source": []
  }
 ],
 "metadata": {
  "kernelspec": {
   "display_name": "Python 3",
   "language": "python",
   "name": "python3"
  },
  "language_info": {
   "codemirror_mode": {
    "name": "ipython",
    "version": 3
   },
   "file_extension": ".py",
   "mimetype": "text/x-python",
   "name": "python",
   "nbconvert_exporter": "python",
   "pygments_lexer": "ipython3",
   "version": "3.7.6"
  }
 },
 "nbformat": 4,
 "nbformat_minor": 4
}
